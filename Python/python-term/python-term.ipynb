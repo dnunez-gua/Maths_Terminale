{
 "cells": [
  {
   "cell_type": "markdown",
   "metadata": {},
   "source": [
    "# Affichage d'une suite\n",
    "\n",
    "La fonction suivante, affiche la liste des 10 premiers termes d'une suite \n",
    "$$u_{n+1}=3u_n+2$$\n",
    "$$u_0=3$$"
   ]
  },
  {
   "cell_type": "code",
   "execution_count": null,
   "metadata": {},
   "outputs": [],
   "source": [
    "u=3\n",
    "liste=[u]\n",
    "for n in range(9):\n",
    "    u=3*u+2\n",
    "    liste.append(u)\n",
    "\n",
    "print(liste)"
   ]
  },
  {
   "cell_type": "markdown",
   "metadata": {},
   "source": [
    "## A vous de jouer\n",
    "Ecrire la liste des 20 premiers termes de la suite\n",
    "$$v_{n+1}=2v_n-5$$\n",
    "$$v_0=2$$"
   ]
  },
  {
   "cell_type": "code",
   "execution_count": null,
   "metadata": {},
   "outputs": [],
   "source": [
    "# Votre code"
   ]
  },
  {
   "cell_type": "markdown",
   "metadata": {},
   "source": [
    "# Somme de suite\n",
    "\n",
    "On souhaite calculer la somme $S=u_1+u_2+u_3+...u_n$ avec la suite $u_n$ définie plus haut.\n"
   ]
  },
  {
   "cell_type": "code",
   "execution_count": null,
   "metadata": {},
   "outputs": [],
   "source": [
    "def somme(n) :\n",
    "    u=3\n",
    "    s=u\n",
    "    for n in range(n):\n",
    "        u=3*u+2\n",
    "        s=s+u\n",
    "    return s\n",
    "\n",
    "print(somme(10))\n",
    "\n",
    "\n"
   ]
  },
  {
   "cell_type": "markdown",
   "metadata": {},
   "source": [
    "## A vous de jouer \n",
    "Recopier le programme en reprenant la suite $v_n$ et en calculant la somme des 15 premiers terme. "
   ]
  },
  {
   "cell_type": "code",
   "execution_count": null,
   "metadata": {},
   "outputs": [],
   "source": [
    "# Votre code"
   ]
  },
  {
   "cell_type": "markdown",
   "metadata": {},
   "source": [
    "# Seuil d'une suite - Forme Explicite\n",
    "On considère la suite \n",
    " $$u_n=\\frac{n^2+3n+5}{n^2+1}$$\n",
    " \n",
    "On cherche le premier entier $n_0$ à partir duquel $u_n\\leq 1.1$"
   ]
  },
  {
   "cell_type": "code",
   "execution_count": null,
   "metadata": {},
   "outputs": [],
   "source": [
    "from math import *\n",
    "# On définit la suite u pour n donné\n",
    "def u(n) :\n",
    "    return (n**2+3*n+5)/(n**2+1)\n",
    "\n",
    "n=0\n",
    "while u(n)>1.1:  \n",
    "    n=n+1 # Tant que u(n) est supérieur au seuil on calcule le terme suivant\n",
    "print(\"Le premier entier n tel que u(n)<=1.1 est \",n)"
   ]
  },
  {
   "cell_type": "markdown",
   "metadata": {},
   "source": [
    "# Seuil d'une suite - Forme Récurrence\n",
    "On considère la suite \n",
    " $$v_{n+1}=\\frac{1}{2}(v_n+\\frac{5}{v_n})$$\n",
    "$$v_0=7$$ \n",
    "On cherche le premier entier $n_0$ à partir duquel $u_n\\leq 2.24$\n"
   ]
  },
  {
   "cell_type": "code",
   "execution_count": null,
   "metadata": {},
   "outputs": [],
   "source": [
    "# On définit v_0\n",
    "n=0\n",
    "v=7\n",
    "while v>2.24 :# Tant que v(n) est supérieur au seuil on calcule le terme suivant\n",
    "    n=n+1\n",
    "    v=0.5*(v+5/v)\n",
    "print(\" Le premier entier n tel que v(n)<=2.24 est \",n)"
   ]
  },
  {
   "cell_type": "markdown",
   "metadata": {},
   "source": [
    "## A vous de jouer\n",
    " \n",
    "Au 1er janvier 2018, une association comptait 2500 adhérents. Une étude a permis de modéliser l'évolution du nombre d'adhérent. Chaque mois :\n",
    "- 4% des adhérents de l'association ne renouvellent pas leur adhésion.\n",
    "- 80 nouvelles personnes adhèrent à l'association. \n",
    "\n",
    "On note $u_n$ l'estimation du nombre d'adhérents n mois après le 1er janvier 2018. <br>\n",
    "On a :\n",
    "$$u_0=2500$$ et $$u_{n+1}=0.96u_n+80$$ <br>\n",
    "A partir de quel mois, le nombre d'adhérents sera-t-il inférieur à 2300"
   ]
  },
  {
   "cell_type": "code",
   "execution_count": null,
   "metadata": {},
   "outputs": [],
   "source": [
    "# votre code "
   ]
  },
  {
   "cell_type": "markdown",
   "metadata": {},
   "source": [
    "# Dichotomie\n",
    "\n",
    "Soit la fonction $$f(x)=x^2 -2$$\n",
    "\n",
    "On cherche un evaleur approchée à $10^{-3}$ de la solution $\\alpha$ de l'équation $f(x)=0$"
   ]
  },
  {
   "cell_type": "code",
   "execution_count": null,
   "metadata": {},
   "outputs": [],
   "source": [
    "def f(x) :\n",
    "    return(x**2-2)\n",
    "\n",
    "def dichotomie(a,b,epsilon) :\n",
    "    ecart = 1\n",
    "    while ecart>epsilon :\n",
    "        m=(a+b)/2\n",
    "        ecart =abs(b-a)\n",
    "        if f(m)==0:\n",
    "            return m\n",
    "        elif f(a)*f(m)>0 :\n",
    "            a=m\n",
    "        else :\n",
    "            b=m\n",
    "    return a,b\n",
    "\n",
    "\n",
    "\n",
    "print(dichotomie(0,2,0.001))"
   ]
  },
  {
   "cell_type": "code",
   "execution_count": null,
   "metadata": {},
   "outputs": [],
   "source": []
  }
 ],
 "metadata": {
  "kernelspec": {
   "display_name": "Python 3 (ipykernel)",
   "language": "python",
   "name": "python3"
  },
  "language_info": {
   "codemirror_mode": {
    "name": "ipython",
    "version": 3
   },
   "file_extension": ".py",
   "mimetype": "text/x-python",
   "name": "python",
   "nbconvert_exporter": "python",
   "pygments_lexer": "ipython3",
   "version": "3.11.0"
  }
 },
 "nbformat": 4,
 "nbformat_minor": 2
}
